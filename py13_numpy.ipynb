{
  "nbformat": 4,
  "nbformat_minor": 0,
  "metadata": {
    "colab": {
      "provenance": [],
      "authorship_tag": "ABX9TyNz0k3RBOnWxWcar/4+FnLX",
      "include_colab_link": true
    },
    "kernelspec": {
      "name": "python3",
      "display_name": "Python 3"
    },
    "language_info": {
      "name": "python"
    }
  },
  "cells": [
    {
      "cell_type": "markdown",
      "metadata": {
        "id": "view-in-github",
        "colab_type": "text"
      },
      "source": [
        "<a href=\"https://colab.research.google.com/github/danbi22/lab-python/blob/main/py13_numpy.ipynb\" target=\"_parent\"><img src=\"https://colab.research.google.com/assets/colab-badge.svg\" alt=\"Open In Colab\"/></a>"
      ]
    },
    {
      "cell_type": "markdown",
      "source": [
        "# 데이터 분석 패키지\n",
        "\n",
        "Google Colab에는 데이터 분석과 머신 러닝에 필요한 대부분의 패키지들이 이미 설치가 되어 있음.\n",
        "\n",
        "* Numpy: 다차원 배열(n-dimensional array)을 다루는 패키지. 머신러닝에서 중요하게 사용됨.\n",
        "* pandas: 시리즈(Series), 데이터프레임(DataFrame)을 다루는 패키지. 데이터 분석에서 기본으로 사용되는 패키지.\n",
        "* matplotlib: 데이터 시각화(그래프)\n",
        "* seaborn: 데이터 시각화 통계 작업"
      ],
      "metadata": {
        "id": "9XBih4LLVbUI"
      }
    },
    {
      "cell_type": "code",
      "execution_count": 1,
      "metadata": {
        "id": "15imZ5gDVQ2S"
      },
      "outputs": [],
      "source": [
        "import numpy as np\n",
        "import pandas as pd\n",
        "import matplotlib as mpl\n",
        "import seaborn as sns"
      ]
    },
    {
      "cell_type": "code",
      "source": [
        "print('Numpy version:', np.__version__)\n",
        "print('pandas version:', pd.__version__)\n",
        "print('Matplotlib version:', mpl.__version__)\n",
        "print('seaborn version:', sns.__version__)"
      ],
      "metadata": {
        "colab": {
          "base_uri": "https://localhost:8080/"
        },
        "id": "yEC0ZFhPbTk7",
        "outputId": "c64cf2c7-76f0-4f16-8deb-b60e6c1039f9"
      },
      "execution_count": 2,
      "outputs": [
        {
          "output_type": "stream",
          "name": "stdout",
          "text": [
            "Numpy version: 1.22.4\n",
            "pandas version: 1.5.3\n",
            "Matplotlib version: 3.7.1\n",
            "seaborn version: 0.12.2\n"
          ]
        }
      ]
    },
    {
      "cell_type": "markdown",
      "source": [
        "# Python `list` class\n",
        "\n",
        "* 여러 개의 값들을 저장할 수 있는 데이터 타입.\n",
        "* 인덱스를 기반으로 값들을 저장, 참조하는 데이터 타입.\n",
        "  * indexing: 인덱스를 사용해서 원하는 위치의 값을 참조, 변경\n",
        "  * slicing: `[start, end]` 인덱스 범위의 값들로 이루어진 부분집합을 잘라내는 방법.\n",
        "* `list + list`: 2개의 리스트를 이어붙이기 (concatnate)\n",
        "* `list * int`, `int * list`: 리스트의 원소들을 정수만큼 반복해서 복제 (replicate)"
      ],
      "metadata": {
        "id": "nvv3V4x-dOle"
      }
    },
    {
      "cell_type": "code",
      "source": [
        "list1 = [1, 2, 3, 4]\n",
        "list2 = [10, 20, 30, 40]"
      ],
      "metadata": {
        "id": "nl5KMo15bs_A"
      },
      "execution_count": 3,
      "outputs": []
    },
    {
      "cell_type": "code",
      "source": [
        "# indexing:\n",
        "print(list1[0]) # list1의 첫번째 원소\n",
        "print(list1[3], list1[-1]) # list1의 마지막 원소"
      ],
      "metadata": {
        "colab": {
          "base_uri": "https://localhost:8080/"
        },
        "id": "TCj43JkgdL1q",
        "outputId": "ba6a0146-0ccd-4266-b102-fd8e1cd7da17"
      },
      "execution_count": 4,
      "outputs": [
        {
          "output_type": "stream",
          "name": "stdout",
          "text": [
            "1\n",
            "4 4\n"
          ]
        }
      ]
    },
    {
      "cell_type": "code",
      "source": [
        "# slicing:\n",
        "print(list1[:3]) # list1에서 앞에서 3개 원소 자르기\n",
        "print(list1[-3:]) # list1에서 뒤에서 3개 원소 자르기"
      ],
      "metadata": {
        "colab": {
          "base_uri": "https://localhost:8080/"
        },
        "id": "868IyVBPdmcX",
        "outputId": "8670386d-2b18-46b4-d0eb-31953ab80a8f"
      },
      "execution_count": 5,
      "outputs": [
        {
          "output_type": "stream",
          "name": "stdout",
          "text": [
            "[1, 2, 3]\n",
            "[2, 3, 4]\n"
          ]
        }
      ]
    },
    {
      "cell_type": "code",
      "source": [
        "list1 + list2"
      ],
      "metadata": {
        "colab": {
          "base_uri": "https://localhost:8080/"
        },
        "id": "CW9iqX1wd7VP",
        "outputId": "43f1adf3-53ce-4821-96dc-8e824792d33b"
      },
      "execution_count": 6,
      "outputs": [
        {
          "output_type": "execute_result",
          "data": {
            "text/plain": [
              "[1, 2, 3, 4, 10, 20, 30, 40]"
            ]
          },
          "metadata": {},
          "execution_count": 6
        }
      ]
    },
    {
      "cell_type": "code",
      "source": [
        "list1 * 3"
      ],
      "metadata": {
        "colab": {
          "base_uri": "https://localhost:8080/"
        },
        "id": "RCSe_i95eAw-",
        "outputId": "eec64a81-a508-405a-b2d9-22e3bc18995c"
      },
      "execution_count": 7,
      "outputs": [
        {
          "output_type": "execute_result",
          "data": {
            "text/plain": [
              "[1, 2, 3, 4, 1, 2, 3, 4, 1, 2, 3, 4]"
            ]
          },
          "metadata": {},
          "execution_count": 7
        }
      ]
    },
    {
      "cell_type": "code",
      "source": [
        "# list1, list2에서 같은 인덱스 위치의 원소들끼리 덧셈\n",
        "[x + y for x, y in zip(list1, list2)]"
      ],
      "metadata": {
        "colab": {
          "base_uri": "https://localhost:8080/"
        },
        "id": "Sc4mmrrleCNe",
        "outputId": "66100d51-eed9-4549-f0e5-7bd6ce48e827"
      },
      "execution_count": 8,
      "outputs": [
        {
          "output_type": "execute_result",
          "data": {
            "text/plain": [
              "[11, 22, 33, 44]"
            ]
          },
          "metadata": {},
          "execution_count": 8
        }
      ]
    },
    {
      "cell_type": "code",
      "source": [
        "# list1의 모든 원소에 3을 곱합.\n",
        "[3 * x for x in list1]"
      ],
      "metadata": {
        "colab": {
          "base_uri": "https://localhost:8080/"
        },
        "id": "oh-wMG5reft-",
        "outputId": "87ca94fe-3e16-482d-f98d-b385a65ba20f"
      },
      "execution_count": 9,
      "outputs": [
        {
          "output_type": "execute_result",
          "data": {
            "text/plain": [
              "[3, 6, 9, 12]"
            ]
          },
          "metadata": {},
          "execution_count": 9
        }
      ]
    },
    {
      "cell_type": "markdown",
      "source": [
        "# NumPy\n",
        "\n",
        "* 배열(ndarray)을 쉽고 빠르게 연산(+, -, *, /, //, %)을 수행하는 라이브러리.\n",
        "* NumPy 패키지의 함수 또는 메서드들을 대부분 반복문의 기능을 가지고 있음.\n",
        "* np.ndarray 클래스: NumPy 패키기에서 기본 타입 클래스. n차원 배열 (n-dimensional array)\n",
        "  * `ndarray`는 같은 인덱스(위치)에 있는 원소들끼리 연산을 수행."
      ],
      "metadata": {
        "id": "DKO6-0ZEinq-"
      }
    },
    {
      "cell_type": "code",
      "source": [
        "array1 = np.array([1, 2, 3]) #python의 list객체를 numpy의 ndarray 객체로 변환."
      ],
      "metadata": {
        "id": "q6JaQqhlenR9"
      },
      "execution_count": 10,
      "outputs": []
    },
    {
      "cell_type": "code",
      "source": [
        "type(array1)"
      ],
      "metadata": {
        "colab": {
          "base_uri": "https://localhost:8080/"
        },
        "id": "phB0t5g8kbL4",
        "outputId": "49a9d27f-c173-4352-9f92-ea0689276b03"
      },
      "execution_count": 11,
      "outputs": [
        {
          "output_type": "execute_result",
          "data": {
            "text/plain": [
              "numpy.ndarray"
            ]
          },
          "metadata": {},
          "execution_count": 11
        }
      ]
    },
    {
      "cell_type": "code",
      "source": [
        "print(array1) # print() 함수는 __str__메서드의 리턴값을 출력"
      ],
      "metadata": {
        "colab": {
          "base_uri": "https://localhost:8080/"
        },
        "id": "3JPqofPVkdi-",
        "outputId": "5a8c366e-acc2-4053-fdc4-ba2cc84f3487"
      },
      "execution_count": 12,
      "outputs": [
        {
          "output_type": "stream",
          "name": "stdout",
          "text": [
            "[1 2 3]\n"
          ]
        }
      ]
    },
    {
      "cell_type": "code",
      "source": [
        "array1 # expression은 __repr__메서드의 리턴값을 출력"
      ],
      "metadata": {
        "colab": {
          "base_uri": "https://localhost:8080/"
        },
        "id": "U2B6wDKjkj2-",
        "outputId": "ff4128a3-2cad-42f0-9b6d-37a5a68e8d63"
      },
      "execution_count": 13,
      "outputs": [
        {
          "output_type": "execute_result",
          "data": {
            "text/plain": [
              "array([1, 2, 3])"
            ]
          },
          "metadata": {},
          "execution_count": 13
        }
      ]
    },
    {
      "cell_type": "code",
      "source": [
        "array2 = np.array([4, 5, 6])\n",
        "print(array2)"
      ],
      "metadata": {
        "colab": {
          "base_uri": "https://localhost:8080/"
        },
        "id": "vhZE0A6gksxN",
        "outputId": "9a167beb-8b98-4e97-8bcf-7ba914968a19"
      },
      "execution_count": 14,
      "outputs": [
        {
          "output_type": "stream",
          "name": "stdout",
          "text": [
            "[4 5 6]\n"
          ]
        }
      ]
    },
    {
      "cell_type": "code",
      "source": [
        "# ndarray의 사칙연산 - 같은 인덱스의 원소들끼리(element-wise) 연산 수행\n",
        "print(array1 + array2)\n",
        "print(array1 - array2)\n",
        "print(array1 * array2)\n",
        "print(array1 / array2)\n",
        "print(array1 // array2)\n",
        "print(array1 % array2)\n"
      ],
      "metadata": {
        "colab": {
          "base_uri": "https://localhost:8080/"
        },
        "id": "7JVCJ_2elQmu",
        "outputId": "ac1616c5-2dbd-40ab-bdd0-f0fda05dc1b0"
      },
      "execution_count": 15,
      "outputs": [
        {
          "output_type": "stream",
          "name": "stdout",
          "text": [
            "[5 7 9]\n",
            "[-3 -3 -3]\n",
            "[ 4 10 18]\n",
            "[0.25 0.4  0.5 ]\n",
            "[0 0 0]\n",
            "[1 2 3]\n"
          ]
        }
      ]
    },
    {
      "cell_type": "markdown",
      "source": [
        "## `ndarray` 클래스의 속성들"
      ],
      "metadata": {
        "id": "bx8Darvemakm"
      }
    },
    {
      "cell_type": "code",
      "source": [
        "print(array1)\n",
        "print('ndim:', array1.ndim) # 차원(dimension). 배열의 축(axis)의 개수.\n",
        "print('size:', array1.size) # 배열의 크기. 원소 개수.\n",
        "print('shape:', array1.shape) # 배열의 모양. 각 차원에서의 원소 개수.\n",
        "print('dtype:', array1.dtype) # 배열 원소의 데이터 타입."
      ],
      "metadata": {
        "colab": {
          "base_uri": "https://localhost:8080/"
        },
        "id": "qyb2WktflqRN",
        "outputId": "080da380-61f1-4220-d43f-3de6c419f5f9"
      },
      "execution_count": 16,
      "outputs": [
        {
          "output_type": "stream",
          "name": "stdout",
          "text": [
            "[1 2 3]\n",
            "ndim: 1\n",
            "size: 3\n",
            "shape: (3,)\n",
            "dtype: int64\n"
          ]
        }
      ]
    },
    {
      "cell_type": "markdown",
      "source": [
        "ndarray는 한 가지 타입의 데이터들만 저장할 수 있는 데이터 타입 - list와 다른점."
      ],
      "metadata": {
        "id": "pG4l4LMeoWyX"
      }
    },
    {
      "cell_type": "markdown",
      "source": [
        "## 2차원 배열\n",
        "\n"
      ],
      "metadata": {
        "id": "Mc1KsIdJo0v9"
      }
    },
    {
      "cell_type": "code",
      "source": [
        "array_2d = np.array([\n",
        "    [1, 2, 3, 4],\n",
        "    [5, 6, 7, 8],\n",
        "    [9, 10, 11, 12]\n",
        "])"
      ],
      "metadata": {
        "id": "j7zjKyZTmhe-"
      },
      "execution_count": 17,
      "outputs": []
    },
    {
      "cell_type": "code",
      "source": [
        "type(array_2d)"
      ],
      "metadata": {
        "colab": {
          "base_uri": "https://localhost:8080/"
        },
        "id": "svhRw0QapYPt",
        "outputId": "5b2e3fa1-b3c0-4d59-cc75-9fec89df95eb"
      },
      "execution_count": 18,
      "outputs": [
        {
          "output_type": "execute_result",
          "data": {
            "text/plain": [
              "numpy.ndarray"
            ]
          },
          "metadata": {},
          "execution_count": 18
        }
      ]
    },
    {
      "cell_type": "code",
      "source": [
        "print(array_2d)"
      ],
      "metadata": {
        "colab": {
          "base_uri": "https://localhost:8080/"
        },
        "id": "2DbNgFLGpaX9",
        "outputId": "36bfe4db-910a-4b17-ff4e-cf50fda436aa"
      },
      "execution_count": 19,
      "outputs": [
        {
          "output_type": "stream",
          "name": "stdout",
          "text": [
            "[[ 1  2  3  4]\n",
            " [ 5  6  7  8]\n",
            " [ 9 10 11 12]]\n"
          ]
        }
      ]
    },
    {
      "cell_type": "code",
      "source": [
        "array_2d"
      ],
      "metadata": {
        "colab": {
          "base_uri": "https://localhost:8080/"
        },
        "id": "DpQtqEphpem9",
        "outputId": "9cfca102-17ed-41e0-a2ef-f6c9ac9262b9"
      },
      "execution_count": 20,
      "outputs": [
        {
          "output_type": "execute_result",
          "data": {
            "text/plain": [
              "array([[ 1,  2,  3,  4],\n",
              "       [ 5,  6,  7,  8],\n",
              "       [ 9, 10, 11, 12]])"
            ]
          },
          "metadata": {},
          "execution_count": 20
        }
      ]
    },
    {
      "cell_type": "code",
      "source": [
        "print(array_2d)\n",
        "print('ndim:', array_2d.ndim) # 차원(dimension). 배열의 축(axis)의 개수.\n",
        "print('size:', array_2d.size) # 배열의 크기. 원소 개수.\n",
        "print('shape:', array_2d.shape) # 배열의 모양. 각 차원에서의 원소 개수.\n",
        "print('dtype:', array_2d.dtype) # 배열 원소의 데이터 타입."
      ],
      "metadata": {
        "colab": {
          "base_uri": "https://localhost:8080/"
        },
        "id": "_3JV2s_gp2Bd",
        "outputId": "c85f5ab6-a994-47d2-f487-c89bf8da655a"
      },
      "execution_count": 21,
      "outputs": [
        {
          "output_type": "stream",
          "name": "stdout",
          "text": [
            "[[ 1  2  3  4]\n",
            " [ 5  6  7  8]\n",
            " [ 9 10 11 12]]\n",
            "ndim: 2\n",
            "size: 12\n",
            "shape: (3, 4)\n",
            "dtype: int64\n"
          ]
        }
      ]
    },
    {
      "cell_type": "markdown",
      "source": [
        "### 2차원 `ndarray`의 인덱스 사용 방법:\n",
        "\n",
        "* `array[i][j]` - Python list와 같은 사용 방법.\n",
        "* `array[i, j]` - ndarray에서만 사용 가능"
      ],
      "metadata": {
        "id": "0AM7VcCCvbgs"
      }
    },
    {
      "cell_type": "code",
      "source": [
        "array_2d[0][0]\n",
        "array_2d[0, 0]"
      ],
      "metadata": {
        "colab": {
          "base_uri": "https://localhost:8080/"
        },
        "id": "5GMBo-8jp-e9",
        "outputId": "f6f7fa8f-9a47-4049-8ad9-d69acbb289d1"
      },
      "execution_count": 22,
      "outputs": [
        {
          "output_type": "execute_result",
          "data": {
            "text/plain": [
              "1"
            ]
          },
          "metadata": {},
          "execution_count": 22
        }
      ]
    },
    {
      "cell_type": "code",
      "source": [
        "array_2d[1,2]"
      ],
      "metadata": {
        "colab": {
          "base_uri": "https://localhost:8080/"
        },
        "id": "fvT8QM_Gv6CN",
        "outputId": "c606dd49-d7a9-4d35-c615-5eaa613750d7"
      },
      "execution_count": 23,
      "outputs": [
        {
          "output_type": "execute_result",
          "data": {
            "text/plain": [
              "7"
            ]
          },
          "metadata": {},
          "execution_count": 23
        }
      ]
    },
    {
      "cell_type": "markdown",
      "source": [
        "## `ndarray` 인덱스\n"
      ],
      "metadata": {
        "id": "UUaQqyprwZRF"
      }
    },
    {
      "cell_type": "code",
      "source": [
        "# [0, 100) 범위의 정수 난수 10개를 갖는 ndarray 객체를 생성:\n",
        "array = np.random.randint(0, 100, size=10)\n",
        "print(array)"
      ],
      "metadata": {
        "colab": {
          "base_uri": "https://localhost:8080/"
        },
        "id": "jvyWQsS7wCrs",
        "outputId": "f7196e16-695e-4b8c-ac59-f675d630f020"
      },
      "execution_count": 24,
      "outputs": [
        {
          "output_type": "stream",
          "name": "stdout",
          "text": [
            "[61 79 41 72 27 55  6 31 96 58]\n"
          ]
        }
      ]
    },
    {
      "cell_type": "code",
      "source": [
        "# indexing:\n",
        "print(array[0]) # 첫번째 원소\n",
        "print(array[-1]) # 마지막 원소"
      ],
      "metadata": {
        "colab": {
          "base_uri": "https://localhost:8080/"
        },
        "id": "GDbLOscIxqO9",
        "outputId": "e11215a5-47a7-46ea-f17a-3374d4da2b61"
      },
      "execution_count": 25,
      "outputs": [
        {
          "output_type": "stream",
          "name": "stdout",
          "text": [
            "61\n",
            "58\n"
          ]
        }
      ]
    },
    {
      "cell_type": "code",
      "source": [
        "# slicing:\n",
        "print(array[:3]) # 첫 3개 원소 자르기\n",
        "print(array[-3:]) # 마지막 3개 원소 자르기"
      ],
      "metadata": {
        "colab": {
          "base_uri": "https://localhost:8080/"
        },
        "id": "UH645NCmxzcs",
        "outputId": "6de3fdb5-21dd-4bbe-c021-e8371f09b7ae"
      },
      "execution_count": 26,
      "outputs": [
        {
          "output_type": "stream",
          "name": "stdout",
          "text": [
            "[61 79 41]\n",
            "[31 96 58]\n"
          ]
        }
      ]
    },
    {
      "cell_type": "code",
      "source": [
        "print(array[0]) # indexing -> 아이템(값)\n",
        "print(array[:1]) # slicing -> 리스트"
      ],
      "metadata": {
        "colab": {
          "base_uri": "https://localhost:8080/"
        },
        "id": "uxd338mGyggd",
        "outputId": "85c418f3-b07f-431b-b0a4-6ef2798ccc7f"
      },
      "execution_count": 27,
      "outputs": [
        {
          "output_type": "stream",
          "name": "stdout",
          "text": [
            "61\n",
            "[61]\n"
          ]
        }
      ]
    },
    {
      "cell_type": "markdown",
      "source": [
        "### fancy indexing\n",
        "\n",
        "* 배열과 비슷한 객체(ndarray, list, tuple, set, ...)를 사용해서 원하는 원소들을 참조하는 방법.\n",
        "* fancy indexing의 결과는 ndarray."
      ],
      "metadata": {
        "id": "err2YwtUywQ0"
      }
    },
    {
      "cell_type": "code",
      "source": [
        "print(array)\n",
        "print(array[0]) # indexing\n",
        "print(array[[0, 2, 4]]) # fancy indexing - 인덱스 0, 2, 4 원소들 찾기\n",
        "print(array[[0]]) # fancy indexing - 결과는 리스트"
      ],
      "metadata": {
        "colab": {
          "base_uri": "https://localhost:8080/"
        },
        "id": "NSusoS-YzJK3",
        "outputId": "999ec233-50b3-4c51-952a-9e87e08b882a"
      },
      "execution_count": 28,
      "outputs": [
        {
          "output_type": "stream",
          "name": "stdout",
          "text": [
            "[61 79 41 72 27 55  6 31 96 58]\n",
            "61\n",
            "[61 41 27]\n",
            "[61]\n"
          ]
        }
      ]
    },
    {
      "cell_type": "markdown",
      "source": [
        "### boolean indexing\n",
        "\n",
        "* 논리값(True/False)들의 배열(리스트, 튜플, ...)을 사용한 fancy indexing 방법.\n",
        "* 배열에서 조건을 만족하는 원소들로 이루어진 부분집합(ndarray)를 만드는 방법."
      ],
      "metadata": {
        "id": "d3GqeWK90wQE"
      }
    },
    {
      "cell_type": "code",
      "source": [
        "print(array)\n",
        "print(array[[True, False, True, False, True, False, True, False, True, False]])"
      ],
      "metadata": {
        "colab": {
          "base_uri": "https://localhost:8080/"
        },
        "id": "39SVYE5UzPb8",
        "outputId": "ada2ae9a-93b2-4051-c822-9b3516eb4dad"
      },
      "execution_count": 29,
      "outputs": [
        {
          "output_type": "stream",
          "name": "stdout",
          "text": [
            "[61 79 41 72 27 55  6 31 96 58]\n",
            "[61 41 27  6 96]\n"
          ]
        }
      ]
    },
    {
      "cell_type": "code",
      "source": [
        "# 배열 array의 원소들 중 홀수들만 찾기:\n",
        "print(array % 2)\n",
        "print(array % 2 == 1)\n",
        "print(array[array % 2 == 1])"
      ],
      "metadata": {
        "colab": {
          "base_uri": "https://localhost:8080/"
        },
        "id": "rAh-WKhO1OId",
        "outputId": "7702da11-de3a-48a9-ee9d-5930332fc774"
      },
      "execution_count": 30,
      "outputs": [
        {
          "output_type": "stream",
          "name": "stdout",
          "text": [
            "[1 1 1 0 1 1 0 1 0 0]\n",
            "[ True  True  True False  True  True False  True False False]\n",
            "[61 79 41 27 55 31]\n"
          ]
        }
      ]
    },
    {
      "cell_type": "code",
      "source": [
        "# 배열 array의 원소들 중에서 50 이상인 숫자들의 배열을 찾기:\n",
        "print(array[array >= 50])"
      ],
      "metadata": {
        "colab": {
          "base_uri": "https://localhost:8080/"
        },
        "id": "yLee-OWWyrnM",
        "outputId": "1eb4e3e8-0eb4-4cbc-96df-9b5a1e3eac0f"
      },
      "execution_count": 31,
      "outputs": [
        {
          "output_type": "stream",
          "name": "stdout",
          "text": [
            "[61 79 72 55 96 58]\n"
          ]
        }
      ]
    },
    {
      "cell_type": "markdown",
      "source": [
        "## NumPy의 통계 함수, 메서드\n",
        "  * np.function(ndarray)함수\n",
        "  * np.ndarray.method()메서드"
      ],
      "metadata": {
        "id": "F8t2Ysxh3tNz"
      }
    },
    {
      "cell_type": "code",
      "source": [
        "array = np.array([1, 2, 3, 4, 5])\n",
        "print(array)"
      ],
      "metadata": {
        "colab": {
          "base_uri": "https://localhost:8080/"
        },
        "id": "3ZxntuKI26zb",
        "outputId": "f5fdb950-1eea-44a5-e4e8-ee28e4c5206a"
      },
      "execution_count": 32,
      "outputs": [
        {
          "output_type": "stream",
          "name": "stdout",
          "text": [
            "[1 2 3 4 5]\n"
          ]
        }
      ]
    },
    {
      "cell_type": "code",
      "source": [
        "# 합계:\n",
        "print(np.sum(array)) # 함수\n",
        "print(array.sum()) # 메서드"
      ],
      "metadata": {
        "colab": {
          "base_uri": "https://localhost:8080/"
        },
        "id": "Ocfew0Hx4S3M",
        "outputId": "66274314-cdb2-423e-a706-acc13a088c66"
      },
      "execution_count": 33,
      "outputs": [
        {
          "output_type": "stream",
          "name": "stdout",
          "text": [
            "15\n",
            "15\n"
          ]
        }
      ]
    },
    {
      "cell_type": "code",
      "source": [
        "# 평균\n",
        "print(np.mean(array)) # 함수\n",
        "print(array.mean()) # 메서드"
      ],
      "metadata": {
        "colab": {
          "base_uri": "https://localhost:8080/"
        },
        "id": "Vz8bjDIR4Y8c",
        "outputId": "30bdab9e-34b5-492d-e14a-98419ab30caf"
      },
      "execution_count": 34,
      "outputs": [
        {
          "output_type": "stream",
          "name": "stdout",
          "text": [
            "3.0\n",
            "3.0\n"
          ]
        }
      ]
    },
    {
      "cell_type": "markdown",
      "source": [
        "* numpy 패키지를 사용\n",
        "* [0, 100) 범위의 정수 난수 10개를 갖는 ndarray를 생성.\n",
        "* 배열의 원소들의 최댓값, 최솟값, 평균(mean), 분산(variance), 표준편차(standard deviation)를 출력.\n",
        "* 배열의 원소들 중 평균보다 큰 값들로 이루어진 배열을 만들고 출력"
      ],
      "metadata": {
        "id": "L4C0jFzSq4ts"
      }
    },
    {
      "cell_type": "code",
      "source": [
        "np.random.seed(1) # 난수들을 생성하는 seed를 설정 -> 항상 같은 숫자들을 생성\n",
        "array = np.random.randint(0, 100, size=10)\n",
        "print(array)"
      ],
      "metadata": {
        "id": "akmEU7ay5skr",
        "colab": {
          "base_uri": "https://localhost:8080/"
        },
        "outputId": "9859ffe9-4f2b-4ffa-d7f0-18cde9b635b6"
      },
      "execution_count": 35,
      "outputs": [
        {
          "output_type": "stream",
          "name": "stdout",
          "text": [
            "[37 12 72  9 75  5 79 64 16  1]\n"
          ]
        }
      ]
    },
    {
      "cell_type": "code",
      "source": [
        "print('최댓값:', np.max(array), array.max())\n",
        "print('최솟값:', np.min(array), array.min())\n",
        "print('평균:', np.mean(array), array.mean())\n",
        "print('분산:', np.var(array), array.var())\n",
        "print('표준편차:', np.std(array), array.std())"
      ],
      "metadata": {
        "colab": {
          "base_uri": "https://localhost:8080/"
        },
        "id": "QW4UvE7Xr2Jk",
        "outputId": "12195a1b-3e62-4e0c-fa15-1e7dc58fecc5"
      },
      "execution_count": 36,
      "outputs": [
        {
          "output_type": "stream",
          "name": "stdout",
          "text": [
            "최댓값: 79 79\n",
            "최솟값: 1 1\n",
            "평균: 37.0 37.0\n",
            "분산: 933.2 933.2\n",
            "표준편차: 30.548322376196047 30.548322376196047\n"
          ]
        }
      ]
    },
    {
      "cell_type": "code",
      "source": [
        "array[array > np.mean(array)]"
      ],
      "metadata": {
        "colab": {
          "base_uri": "https://localhost:8080/"
        },
        "id": "M1FOooV-sJTM",
        "outputId": "813387a0-55c2-4f42-8bb1-2288df76a6dd"
      },
      "execution_count": 37,
      "outputs": [
        {
          "output_type": "execute_result",
          "data": {
            "text/plain": [
              "array([72, 75, 79, 64])"
            ]
          },
          "metadata": {},
          "execution_count": 37
        }
      ]
    },
    {
      "cell_type": "markdown",
      "source": [
        "# 2차원 배열에서의 통계 함수, 메서드"
      ],
      "metadata": {
        "id": "laDbekV1sshN"
      }
    },
    {
      "cell_type": "code",
      "source": [
        "# [0, 100) 범위의 정수 난수를 갖는 (3, 4) 모양(shape)을 갖는 2차원 ndarray:\n",
        "np.random.seed(1)\n",
        "array = np.random.randint(100, size=(3, 4))\n",
        "print(array)"
      ],
      "metadata": {
        "colab": {
          "base_uri": "https://localhost:8080/"
        },
        "id": "OsLnwK5lsNtc",
        "outputId": "d890d77a-e1f5-4fec-acb5-c79ed847a71a"
      },
      "execution_count": 38,
      "outputs": [
        {
          "output_type": "stream",
          "name": "stdout",
          "text": [
            "[[37 12 72  9]\n",
            " [75  5 79 64]\n",
            " [16  1 76 71]]\n"
          ]
        }
      ]
    },
    {
      "cell_type": "code",
      "source": [
        "np.sum(array)  # axis=None(기본값): 배열의 모든 원소들의 합계"
      ],
      "metadata": {
        "colab": {
          "base_uri": "https://localhost:8080/"
        },
        "id": "q72gNcY0s1gM",
        "outputId": "a256c829-920f-4146-f3a4-bea117a7cc93"
      },
      "execution_count": 39,
      "outputs": [
        {
          "output_type": "execute_result",
          "data": {
            "text/plain": [
              "517"
            ]
          },
          "metadata": {},
          "execution_count": 39
        }
      ]
    },
    {
      "cell_type": "code",
      "source": [
        "np.sum(array, axis=0)  # axis=0: 2차원 배열에서 첫번째 인덱스가 증가하는 축 방향으로 계산."
      ],
      "metadata": {
        "colab": {
          "base_uri": "https://localhost:8080/"
        },
        "id": "BtQgnWkZs36s",
        "outputId": "0bd2c94b-e510-4235-9a7d-99609de32d6e"
      },
      "execution_count": 40,
      "outputs": [
        {
          "output_type": "execute_result",
          "data": {
            "text/plain": [
              "array([128,  18, 227, 144])"
            ]
          },
          "metadata": {},
          "execution_count": 40
        }
      ]
    },
    {
      "cell_type": "code",
      "source": [
        "np.sum(array, axis=1)  # axis=1: 2차원 배열에서 두번째 인덱스가 증가하는 축 방향으로 계산."
      ],
      "metadata": {
        "colab": {
          "base_uri": "https://localhost:8080/"
        },
        "id": "5fGOUFVdtBFM",
        "outputId": "455fabff-7811-4d28-9737-450eea1cd06e"
      },
      "execution_count": 41,
      "outputs": [
        {
          "output_type": "execute_result",
          "data": {
            "text/plain": [
              "array([130, 223, 164])"
            ]
          },
          "metadata": {},
          "execution_count": 41
        }
      ]
    },
    {
      "cell_type": "code",
      "source": [
        "np.sum(array, axis=1, keepdims=True)"
      ],
      "metadata": {
        "colab": {
          "base_uri": "https://localhost:8080/"
        },
        "id": "jxuCaYJYtDhe",
        "outputId": "f623bc38-56d1-41c8-e671-4895b4fb9ab3"
      },
      "execution_count": 42,
      "outputs": [
        {
          "output_type": "execute_result",
          "data": {
            "text/plain": [
              "array([[130],\n",
              "       [223],\n",
              "       [164]])"
            ]
          },
          "metadata": {},
          "execution_count": 42
        }
      ]
    }
  ]
}