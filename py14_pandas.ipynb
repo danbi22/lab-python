{
  "nbformat": 4,
  "nbformat_minor": 0,
  "metadata": {
    "colab": {
      "provenance": [],
      "include_colab_link": true
    },
    "kernelspec": {
      "name": "python3",
      "display_name": "Python 3"
    },
    "language_info": {
      "name": "python"
    }
  },
  "cells": [
    {
      "cell_type": "markdown",
      "metadata": {
        "id": "view-in-github",
        "colab_type": "text"
      },
      "source": [
        "<a href=\"https://colab.research.google.com/github/danbi22/lab-python/blob/main/py14_pandas.ipynb\" target=\"_parent\"><img src=\"https://colab.research.google.com/assets/colab-badge.svg\" alt=\"Open In Colab\"/></a>"
      ]
    },
    {
      "cell_type": "markdown",
      "source": [
        "# 패키지 임포트"
      ],
      "metadata": {
        "id": "s1i8NVnznwYm"
      }
    },
    {
      "cell_type": "code",
      "execution_count": null,
      "metadata": {
        "id": "-Qo_2wTbnmNY"
      },
      "outputs": [],
      "source": [
        "import numpy as np\n",
        "import pandas as pd"
      ]
    },
    {
      "cell_type": "markdown",
      "source": [
        "# Series\n",
        "\n",
        "*  한 가지 타입의 여러개의 값들을 저장할 수 있는 1차원 모양의 데이터 타입(클래스)\n",
        "*  축 레이블(axis label)을 가지고 있는 1차원 배열(ndarray)\n"
      ],
      "metadata": {
        "id": "_PbMWXKdoBu-"
      }
    },
    {
      "cell_type": "code",
      "source": [
        "s = pd.Series(data=[1, 2, -3, -4, 5, -6])  # Series 클래스의 생성자 호출"
      ],
      "metadata": {
        "id": "TBF4Ob4sn9jW"
      },
      "execution_count": null,
      "outputs": []
    },
    {
      "cell_type": "code",
      "source": [
        "type(s)"
      ],
      "metadata": {
        "colab": {
          "base_uri": "https://localhost:8080/"
        },
        "id": "oK_IGrldpBaI",
        "outputId": "96571025-ccf8-45cf-ce38-2c37e51d167c"
      },
      "execution_count": null,
      "outputs": [
        {
          "output_type": "execute_result",
          "data": {
            "text/plain": [
              "pandas.core.series.Series"
            ]
          },
          "metadata": {},
          "execution_count": 3
        }
      ]
    },
    {
      "cell_type": "code",
      "source": [
        "print(s)  # __str__ 메서드"
      ],
      "metadata": {
        "colab": {
          "base_uri": "https://localhost:8080/"
        },
        "id": "yIKNUakdpI2F",
        "outputId": "f5c1e63a-9af8-41d7-e8cf-fe591bfad9b2"
      },
      "execution_count": null,
      "outputs": [
        {
          "output_type": "stream",
          "name": "stdout",
          "text": [
            "0    1\n",
            "1    2\n",
            "2   -3\n",
            "3   -4\n",
            "4    5\n",
            "5   -6\n",
            "dtype: int64\n"
          ]
        }
      ]
    },
    {
      "cell_type": "code",
      "source": [
        "s1  # __repr__ 메서드"
      ],
      "metadata": {
        "colab": {
          "base_uri": "https://localhost:8080/"
        },
        "id": "EPl21MLrpSvu",
        "outputId": "3e747fba-7227-4dfd-8ad7-eb07506823e6"
      },
      "execution_count": null,
      "outputs": [
        {
          "output_type": "execute_result",
          "data": {
            "text/plain": [
              "0    1\n",
              "1    2\n",
              "2   -3\n",
              "3   -4\n",
              "4    5\n",
              "5   -6\n",
              "dtype: int64"
            ]
          },
          "metadata": {},
          "execution_count": 5
        }
      ]
    },
    {
      "cell_type": "markdown",
      "source": [
        "## Series 속성(Attributes)"
      ],
      "metadata": {
        "id": "9DygQw6-qHKk"
      }
    },
    {
      "cell_type": "code",
      "source": [
        "s.values  # Series의 값들로 이루어진 ndarray"
      ],
      "metadata": {
        "colab": {
          "base_uri": "https://localhost:8080/"
        },
        "id": "Frg9Gs55paZd",
        "outputId": "86c4e876-fe9c-4693-db15-ea3661dc723a"
      },
      "execution_count": null,
      "outputs": [
        {
          "output_type": "execute_result",
          "data": {
            "text/plain": [
              "array([ 1,  2, -3, -4,  5, -6])"
            ]
          },
          "metadata": {},
          "execution_count": 6
        }
      ]
    },
    {
      "cell_type": "code",
      "source": [
        "s.index  # Series의 인덱스(레이블)"
      ],
      "metadata": {
        "colab": {
          "base_uri": "https://localhost:8080/"
        },
        "id": "LJWUKn7mqSX8",
        "outputId": "7dead46d-a2e7-45fa-c8a9-7115bc58ef46"
      },
      "execution_count": null,
      "outputs": [
        {
          "output_type": "execute_result",
          "data": {
            "text/plain": [
              "RangeIndex(start=0, stop=6, step=1)"
            ]
          },
          "metadata": {},
          "execution_count": 7
        }
      ]
    },
    {
      "cell_type": "code",
      "source": [
        "s = pd.Series(data=[1, 2, 3], index=['a', 'b', 'c'])\n",
        "s"
      ],
      "metadata": {
        "colab": {
          "base_uri": "https://localhost:8080/"
        },
        "id": "ayaXXUUjqtBv",
        "outputId": "2debda5e-0390-4d03-efff-8a2195c49314"
      },
      "execution_count": null,
      "outputs": [
        {
          "output_type": "execute_result",
          "data": {
            "text/plain": [
              "a    1\n",
              "b    2\n",
              "c    3\n",
              "dtype: int64"
            ]
          },
          "metadata": {},
          "execution_count": 8
        }
      ]
    },
    {
      "cell_type": "code",
      "source": [
        "s.values"
      ],
      "metadata": {
        "colab": {
          "base_uri": "https://localhost:8080/"
        },
        "id": "g3kMCIPBq3BF",
        "outputId": "163bca35-dd8a-40be-f9dc-7488cf1625aa"
      },
      "execution_count": null,
      "outputs": [
        {
          "output_type": "execute_result",
          "data": {
            "text/plain": [
              "array([1, 2, 3])"
            ]
          },
          "metadata": {},
          "execution_count": 9
        }
      ]
    },
    {
      "cell_type": "code",
      "source": [
        "s.index"
      ],
      "metadata": {
        "colab": {
          "base_uri": "https://localhost:8080/"
        },
        "id": "Dzups4Xkq_DN",
        "outputId": "2af9d3f1-57ee-44a5-f2dc-694fa0c3e358"
      },
      "execution_count": null,
      "outputs": [
        {
          "output_type": "execute_result",
          "data": {
            "text/plain": [
              "Index(['a', 'b', 'c'], dtype='object')"
            ]
          },
          "metadata": {},
          "execution_count": 10
        }
      ]
    },
    {
      "cell_type": "markdown",
      "source": [
        "## indexing, slicing\n",
        "\n",
        "*  `iloc`: integer locatioin. 정수 인덱스(ndarry의 기본 인덱스) 기반으로 원소 참조 또는 슬라이싱.\n",
        "*  `loc`: location. 레이블 기반의 원소 참조 또는 슬라이싱.\n"
      ],
      "metadata": {
        "id": "qlSA-gG_rTFV"
      }
    },
    {
      "cell_type": "code",
      "source": [
        "np.random.seed(1)\n",
        "s1 = pd.Series(data=np.random.randint(-10, 10, size=6))\n",
        "s1"
      ],
      "metadata": {
        "colab": {
          "base_uri": "https://localhost:8080/"
        },
        "id": "fMZWbPBLrAll",
        "outputId": "7ba517c4-2bae-4f8d-a7bc-a90ce1fba4df"
      },
      "execution_count": null,
      "outputs": [
        {
          "output_type": "execute_result",
          "data": {
            "text/plain": [
              "0   -5\n",
              "1    1\n",
              "2    2\n",
              "3   -2\n",
              "4   -1\n",
              "5    1\n",
              "dtype: int64"
            ]
          },
          "metadata": {},
          "execution_count": 16
        }
      ]
    },
    {
      "cell_type": "code",
      "source": [
        "# iloc를 사용한 인덱싱\n",
        "print(s1.iloc[0])  # Series에서 첫번째 원소\n",
        "print(s1.iloc[-1])  # Sereis에서 마지막 원소"
      ],
      "metadata": {
        "colab": {
          "base_uri": "https://localhost:8080/"
        },
        "id": "cZhnKiNwthi9",
        "outputId": "8f74c949-6c94-48fe-96e5-8f5993c3c4be"
      },
      "execution_count": null,
      "outputs": [
        {
          "output_type": "stream",
          "name": "stdout",
          "text": [
            "-5\n",
            "1\n"
          ]
        }
      ]
    },
    {
      "cell_type": "code",
      "source": [
        "# iloc를 사용한 슬라이싱\n",
        "print(s1.iloc[:3])  # Series에서 첫 3개 원소 자르기\n",
        "print(s1.iloc[-3:])  # Seires에서 마지막 3개 원소 자르기"
      ],
      "metadata": {
        "colab": {
          "base_uri": "https://localhost:8080/"
        },
        "id": "PG3QRTFLuQKd",
        "outputId": "0732f9e8-d550-4dd1-c2b5-c6c84739885a"
      },
      "execution_count": null,
      "outputs": [
        {
          "output_type": "stream",
          "name": "stdout",
          "text": [
            "0   -5\n",
            "1    1\n",
            "2    2\n",
            "dtype: int64\n",
            "3   -2\n",
            "4   -1\n",
            "5    1\n",
            "dtype: int64\n"
          ]
        }
      ]
    },
    {
      "cell_type": "code",
      "source": [
        "# loc를 사용한 인덱싱\n",
        "print(s1.loc[0])  # Series의 첫번째 원소\n",
        "print(s1.loc[5])  # Series의 마지막 원소 - 음수 인덱스 사용 불가능!"
      ],
      "metadata": {
        "colab": {
          "base_uri": "https://localhost:8080/"
        },
        "id": "J_0fNH88ueCM",
        "outputId": "5ccb6486-86dd-42bf-a399-89eff71db762"
      },
      "execution_count": null,
      "outputs": [
        {
          "output_type": "stream",
          "name": "stdout",
          "text": [
            "-5\n",
            "1\n"
          ]
        }
      ]
    },
    {
      "cell_type": "code",
      "source": [
        "# loc를 사용한 슬라이싱\n",
        "print(s1.loc[:2])"
      ],
      "metadata": {
        "colab": {
          "base_uri": "https://localhost:8080/"
        },
        "id": "gpLoe5LTv7jF",
        "outputId": "dde68b70-a6b8-4c32-aaff-5eb6236d4881"
      },
      "execution_count": null,
      "outputs": [
        {
          "output_type": "stream",
          "name": "stdout",
          "text": [
            "0   -5\n",
            "1    1\n",
            "2    2\n",
            "dtype: int64\n"
          ]
        }
      ]
    },
    {
      "cell_type": "code",
      "source": [
        "np.random.seed(42)\n",
        "s2 = pd.Series(data=np.random.randint(-10, 11, size=6),\n",
        "               index=['a', 'b', 'c', 'd', 'e', 'f'])\n",
        "s2"
      ],
      "metadata": {
        "colab": {
          "base_uri": "https://localhost:8080/"
        },
        "id": "a_2DC48Wwju0",
        "outputId": "f57c7f7b-1a03-4245-ca27-a97b6afc5f7b"
      },
      "execution_count": null,
      "outputs": [
        {
          "output_type": "execute_result",
          "data": {
            "text/plain": [
              "a    -4\n",
              "b     9\n",
              "c     4\n",
              "d     0\n",
              "e    -3\n",
              "f    10\n",
              "dtype: int64"
            ]
          },
          "metadata": {},
          "execution_count": 24
        }
      ]
    },
    {
      "cell_type": "code",
      "source": [
        "s2.iloc[0]"
      ],
      "metadata": {
        "colab": {
          "base_uri": "https://localhost:8080/"
        },
        "id": "Z969PSyWw5Zj",
        "outputId": "b319aeff-bfba-4836-9502-8ec5be9724c1"
      },
      "execution_count": null,
      "outputs": [
        {
          "output_type": "execute_result",
          "data": {
            "text/plain": [
              "-4"
            ]
          },
          "metadata": {},
          "execution_count": 25
        }
      ]
    },
    {
      "cell_type": "code",
      "source": [
        "s2.iloc[-1]"
      ],
      "metadata": {
        "colab": {
          "base_uri": "https://localhost:8080/"
        },
        "id": "w3BdeKb7xCcM",
        "outputId": "a1ccdabc-63b8-48bb-f410-e8a80b88c5f7"
      },
      "execution_count": null,
      "outputs": [
        {
          "output_type": "execute_result",
          "data": {
            "text/plain": [
              "10"
            ]
          },
          "metadata": {},
          "execution_count": 26
        }
      ]
    },
    {
      "cell_type": "code",
      "source": [
        "s2.iloc[:3]"
      ],
      "metadata": {
        "colab": {
          "base_uri": "https://localhost:8080/"
        },
        "id": "tdcXT5QLxE2j",
        "outputId": "dd23eb92-6164-4330-9ef4-a921add30df0"
      },
      "execution_count": null,
      "outputs": [
        {
          "output_type": "execute_result",
          "data": {
            "text/plain": [
              "a   -4\n",
              "b    9\n",
              "c    4\n",
              "dtype: int64"
            ]
          },
          "metadata": {},
          "execution_count": 27
        }
      ]
    },
    {
      "cell_type": "code",
      "source": [
        "s2.loc['a']"
      ],
      "metadata": {
        "colab": {
          "base_uri": "https://localhost:8080/"
        },
        "id": "roxfdc4bxRNM",
        "outputId": "9118d140-ea66-4513-e408-d1ff9fd5509a"
      },
      "execution_count": null,
      "outputs": [
        {
          "output_type": "execute_result",
          "data": {
            "text/plain": [
              "-4"
            ]
          },
          "metadata": {},
          "execution_count": 28
        }
      ]
    },
    {
      "cell_type": "code",
      "source": [
        "s2.loc['f']"
      ],
      "metadata": {
        "colab": {
          "base_uri": "https://localhost:8080/"
        },
        "id": "0vmD9Se4xTOk",
        "outputId": "c9b190eb-5a92-4226-bf8a-462f8f0586e3"
      },
      "execution_count": null,
      "outputs": [
        {
          "output_type": "execute_result",
          "data": {
            "text/plain": [
              "10"
            ]
          },
          "metadata": {},
          "execution_count": 29
        }
      ]
    },
    {
      "cell_type": "code",
      "source": [
        "s2.loc[:'c']"
      ],
      "metadata": {
        "colab": {
          "base_uri": "https://localhost:8080/"
        },
        "id": "TSpRABpQxZrM",
        "outputId": "0e348734-e998-4904-a087-1ce54a45c2b7"
      },
      "execution_count": null,
      "outputs": [
        {
          "output_type": "execute_result",
          "data": {
            "text/plain": [
              "a   -4\n",
              "b    9\n",
              "c    4\n",
              "dtype: int64"
            ]
          },
          "metadata": {},
          "execution_count": 30
        }
      ]
    }
  ]
}