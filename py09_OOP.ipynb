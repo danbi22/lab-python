{
  "nbformat": 4,
  "nbformat_minor": 0,
  "metadata": {
    "colab": {
      "provenance": [],
      "authorship_tag": "ABX9TyN79z9nyydOxpyPO2ygbzPV",
      "include_colab_link": true
    },
    "kernelspec": {
      "name": "python3",
      "display_name": "Python 3"
    },
    "language_info": {
      "name": "python"
    }
  },
  "cells": [
    {
      "cell_type": "markdown",
      "metadata": {
        "id": "view-in-github",
        "colab_type": "text"
      },
      "source": [
        "<a href=\"https://colab.research.google.com/github/danbi22/lab-python/blob/main/py09_OOP.ipynb\" target=\"_parent\"><img src=\"https://colab.research.google.com/assets/colab-badge.svg\" alt=\"Open In Colab\"/></a>"
      ]
    },
    {
      "cell_type": "markdown",
      "source": [
        "# 객체 지향 프로그래밍(OOP: Object-Oriented Programming)\n",
        "\n"
      ],
      "metadata": {
        "id": "y_siuNkAMo-q"
      }
    },
    {
      "cell_type": "code",
      "source": [
        "class Student:\n",
        "  # 생성자 함수: 생성자를 호출하면 파이썬 인터프리터에 의해서 자동으로 호출 되는 메서드\n",
        "  def __init__(self, no, name, python, java, javascript):\n",
        "    self.no = no\n",
        "    self.name = name\n",
        "    self.python = python\n",
        "    self.java = java\n",
        "    self.javascript = javascript\n",
        "\n",
        "  def get_total(self):\n",
        "    # 파이썬의 메서드는 멤버들을 접근할 때 반드시 self 키워드를 사용해야 함.\n",
        "    return self.python + self.java + self.javascript\n",
        "\n",
        "  def get_mean(self):\n",
        "    return self.get_total() / 3\n",
        "\n",
        "  def print_info(self):\n",
        "    print(f'Student(번호={self.no}), 이름={self.name}, python={self.python}, java={self.java}, javascript={self.javascript}')"
      ],
      "metadata": {
        "id": "zIT34h9sM0w7"
      },
      "execution_count": 5,
      "outputs": []
    },
    {
      "cell_type": "code",
      "source": [
        "# Student 타입의 객체 생성\n",
        "student1 = Student(1, '다한', 100, 100, 100) # 생성자 호출: 생성자 이름 - 클래스 이름, new 키워드를 사용하지 않음"
      ],
      "metadata": {
        "id": "UjLiLsNUPQOm"
      },
      "execution_count": 6,
      "outputs": []
    },
    {
      "cell_type": "code",
      "source": [
        "print(student1) # 객체 student1을 문자열로 출력"
      ],
      "metadata": {
        "colab": {
          "base_uri": "https://localhost:8080/"
        },
        "id": "ZXiXnFV0Eq3e",
        "outputId": "e78488bc-35b9-4ed8-df56-9b88421d4cbc"
      },
      "execution_count": 8,
      "outputs": [
        {
          "output_type": "stream",
          "name": "stdout",
          "text": [
            "<__main__.Student object at 0x7f361019c310>\n"
          ]
        }
      ]
    },
    {
      "cell_type": "code",
      "source": [
        "student1 # student1의 식(expression)을 출력"
      ],
      "metadata": {
        "colab": {
          "base_uri": "https://localhost:8080/"
        },
        "id": "xYGrW7UUGFZl",
        "outputId": "3cf4cf81-cda1-4812-9f91-946355af2c96"
      },
      "execution_count": 9,
      "outputs": [
        {
          "output_type": "execute_result",
          "data": {
            "text/plain": [
              "<__main__.Student at 0x7f361019c310>"
            ]
          },
          "metadata": {},
          "execution_count": 9
        }
      ]
    },
    {
      "cell_type": "code",
      "source": [
        "student1.no"
      ],
      "metadata": {
        "colab": {
          "base_uri": "https://localhost:8080/"
        },
        "id": "r_ch7j1GGXi1",
        "outputId": "a8ca6d90-9af4-40c6-fbd6-4cd69e80a6e9"
      },
      "execution_count": 10,
      "outputs": [
        {
          "output_type": "execute_result",
          "data": {
            "text/plain": [
              "1"
            ]
          },
          "metadata": {},
          "execution_count": 10
        }
      ]
    },
    {
      "cell_type": "code",
      "source": [
        "student1.name"
      ],
      "metadata": {
        "colab": {
          "base_uri": "https://localhost:8080/",
          "height": 35
        },
        "id": "hSvHX4FoGcM3",
        "outputId": "c6810f09-6e8e-4aa1-ec4a-6fac11a3cf54"
      },
      "execution_count": 11,
      "outputs": [
        {
          "output_type": "execute_result",
          "data": {
            "text/plain": [
              "'다한'"
            ],
            "application/vnd.google.colaboratory.intrinsic+json": {
              "type": "string"
            }
          },
          "metadata": {},
          "execution_count": 11
        }
      ]
    },
    {
      "cell_type": "code",
      "source": [
        "student1.get_total()"
      ],
      "metadata": {
        "colab": {
          "base_uri": "https://localhost:8080/"
        },
        "id": "cd9NWIT1Ge4u",
        "outputId": "97d61bc2-ada6-4fd2-ae12-1c7e7ab29409"
      },
      "execution_count": 13,
      "outputs": [
        {
          "output_type": "execute_result",
          "data": {
            "text/plain": [
              "300"
            ]
          },
          "metadata": {},
          "execution_count": 13
        }
      ]
    },
    {
      "cell_type": "code",
      "source": [
        "student1.get_mean()"
      ],
      "metadata": {
        "colab": {
          "base_uri": "https://localhost:8080/"
        },
        "id": "UmqMX1rNGiXC",
        "outputId": "b1aa5b4a-27db-4ebf-d22d-420dca124dad"
      },
      "execution_count": 14,
      "outputs": [
        {
          "output_type": "execute_result",
          "data": {
            "text/plain": [
              "100.0"
            ]
          },
          "metadata": {},
          "execution_count": 14
        }
      ]
    },
    {
      "cell_type": "code",
      "source": [
        "student1.print_info()"
      ],
      "metadata": {
        "colab": {
          "base_uri": "https://localhost:8080/"
        },
        "id": "NG3Ji1FpGsDY",
        "outputId": "a12f1d5a-015a-42f5-86f6-edcc80c640d2"
      },
      "execution_count": 15,
      "outputs": [
        {
          "output_type": "stream",
          "name": "stdout",
          "text": [
            "Student(번호=1), 이름=다한, python=100, java=100, javascript=100\n"
          ]
        }
      ]
    },
    {
      "cell_type": "code",
      "source": [
        "import math\n",
        "# math 모듈을 임포트 -> math.sqrt()"
      ],
      "metadata": {
        "id": "fGSKs-pDGvpZ"
      },
      "execution_count": null,
      "outputs": []
    },
    {
      "cell_type": "markdown",
      "source": [
        "* class: Point\n",
        "  * 2차원 평면의 점의 좌표(x, y)를 표현하는 클래스\n",
        "* 생성자 함수: x, y를 초기화. x, y의 기본값은 0.\n",
        "* 메서드:\n",
        "  * move: 점의 좌표를 원래 위치에서 dx, dy만큼 이동시키는 메서드\n",
        "  * distance: 현재 점의 위치에서 다른 점까지의 거리를 계산해서 리턴하는 메서드.\n",
        "    ```\n",
        "    sqrt((x1 - x2)**2 + (y1 - y2)**2)\n",
        "    ```"
      ],
      "metadata": {
        "id": "nHCzxeQkG3rl"
      }
    },
    {
      "cell_type": "code",
      "source": [
        "class Point:\n",
        "  def __init__(self, x=0, y=0):\n",
        ""
      ],
      "metadata": {
        "id": "duupz6FwHvsv"
      },
      "execution_count": null,
      "outputs": []
    }
  ]
}