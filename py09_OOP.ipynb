{
  "nbformat": 4,
  "nbformat_minor": 0,
  "metadata": {
    "colab": {
      "provenance": [],
      "authorship_tag": "ABX9TyPKfq+wtah2Rd8FkYBi2Kcm",
      "include_colab_link": true
    },
    "kernelspec": {
      "name": "python3",
      "display_name": "Python 3"
    },
    "language_info": {
      "name": "python"
    }
  },
  "cells": [
    {
      "cell_type": "markdown",
      "metadata": {
        "id": "view-in-github",
        "colab_type": "text"
      },
      "source": [
        "<a href=\"https://colab.research.google.com/github/danbi22/lab-python/blob/main/py09_OOP.ipynb\" target=\"_parent\"><img src=\"https://colab.research.google.com/assets/colab-badge.svg\" alt=\"Open In Colab\"/></a>"
      ]
    },
    {
      "cell_type": "markdown",
      "source": [
        "# 객체 지향 프로그래밍(OOP: Object-Oriented Programming)\n",
        "\n"
      ],
      "metadata": {
        "id": "y_siuNkAMo-q"
      }
    },
    {
      "cell_type": "code",
      "source": [
        "class Student:\n",
        "  # 생성자 함수: 생성자를 호출하면 파이썬 인터프리터에 의해서 자동으로 호출 되는 메서드\n",
        "  def __init__(self, no, name, python, java, javascript):\n",
        "    self.no = no\n",
        "    self.name = name\n",
        "    self.python = python\n",
        "    self.java = java\n",
        "    self.javascript = javascript\n",
        "\n",
        "  def get_total(self):\n",
        "    # 파이썬의 메서드는 멤버들을 접근할 때 반드시 self 키워드를 사용해야 함.\n",
        "    return self.python + self.java + self.javascript\n",
        "\n",
        "  def get_mean(self):\n",
        "    return self.get_total() / 3\n",
        "\n",
        "  def print_info(self):\n",
        "    print(f'Student(번호={self.no}), 이름={self.name}, python={self.python}, java={self.java}, javascript={self.javascript}')"
      ],
      "metadata": {
        "id": "zIT34h9sM0w7"
      },
      "execution_count": 68,
      "outputs": []
    },
    {
      "cell_type": "code",
      "source": [
        "# Student 타입의 객체 생성\n",
        "student1 = Student(1, '다한', 100, 100, 100) # 생성자 호출: 생성자 이름 - 클래스 이름, new 키워드를 사용하지 않음"
      ],
      "metadata": {
        "id": "UjLiLsNUPQOm"
      },
      "execution_count": 69,
      "outputs": []
    },
    {
      "cell_type": "code",
      "source": [
        "print(student1) # 객체 student1을 문자열로 출력"
      ],
      "metadata": {
        "colab": {
          "base_uri": "https://localhost:8080/"
        },
        "id": "ZXiXnFV0Eq3e",
        "outputId": "92c10bc6-6558-4b9b-e512-7c7504487e38"
      },
      "execution_count": 70,
      "outputs": [
        {
          "output_type": "stream",
          "name": "stdout",
          "text": [
            "<__main__.Student object at 0x7f4c073323b0>\n"
          ]
        }
      ]
    },
    {
      "cell_type": "code",
      "source": [
        "student1 # student1의 식(expression)을 출력"
      ],
      "metadata": {
        "colab": {
          "base_uri": "https://localhost:8080/"
        },
        "id": "xYGrW7UUGFZl",
        "outputId": "c9b58e15-05ec-4c6d-e01b-3105533a1021"
      },
      "execution_count": 71,
      "outputs": [
        {
          "output_type": "execute_result",
          "data": {
            "text/plain": [
              "<__main__.Student at 0x7f4c073323b0>"
            ]
          },
          "metadata": {},
          "execution_count": 71
        }
      ]
    },
    {
      "cell_type": "code",
      "source": [
        "student1.no"
      ],
      "metadata": {
        "colab": {
          "base_uri": "https://localhost:8080/"
        },
        "id": "r_ch7j1GGXi1",
        "outputId": "7e45cdf8-7d02-4114-a4be-d25c920c33b1"
      },
      "execution_count": 72,
      "outputs": [
        {
          "output_type": "execute_result",
          "data": {
            "text/plain": [
              "1"
            ]
          },
          "metadata": {},
          "execution_count": 72
        }
      ]
    },
    {
      "cell_type": "code",
      "source": [
        "student1.name"
      ],
      "metadata": {
        "colab": {
          "base_uri": "https://localhost:8080/",
          "height": 35
        },
        "id": "hSvHX4FoGcM3",
        "outputId": "36392b48-a62d-4989-d9b9-63e384a6e9c0"
      },
      "execution_count": 73,
      "outputs": [
        {
          "output_type": "execute_result",
          "data": {
            "text/plain": [
              "'다한'"
            ],
            "application/vnd.google.colaboratory.intrinsic+json": {
              "type": "string"
            }
          },
          "metadata": {},
          "execution_count": 73
        }
      ]
    },
    {
      "cell_type": "code",
      "source": [
        "student1.get_total()"
      ],
      "metadata": {
        "colab": {
          "base_uri": "https://localhost:8080/"
        },
        "id": "cd9NWIT1Ge4u",
        "outputId": "bcb0b1f7-3485-4c9d-a010-fc38521b5cd3"
      },
      "execution_count": 74,
      "outputs": [
        {
          "output_type": "execute_result",
          "data": {
            "text/plain": [
              "300"
            ]
          },
          "metadata": {},
          "execution_count": 74
        }
      ]
    },
    {
      "cell_type": "code",
      "source": [
        "student1.get_mean()"
      ],
      "metadata": {
        "colab": {
          "base_uri": "https://localhost:8080/"
        },
        "id": "UmqMX1rNGiXC",
        "outputId": "93543c77-1bc6-478a-d874-987d9b01e2ef"
      },
      "execution_count": 75,
      "outputs": [
        {
          "output_type": "execute_result",
          "data": {
            "text/plain": [
              "100.0"
            ]
          },
          "metadata": {},
          "execution_count": 75
        }
      ]
    },
    {
      "cell_type": "code",
      "source": [
        "student1.print_info()"
      ],
      "metadata": {
        "colab": {
          "base_uri": "https://localhost:8080/"
        },
        "id": "NG3Ji1FpGsDY",
        "outputId": "4733e150-c61d-4949-e113-9bf49eef5528"
      },
      "execution_count": 76,
      "outputs": [
        {
          "output_type": "stream",
          "name": "stdout",
          "text": [
            "Student(번호=1), 이름=다한, python=100, java=100, javascript=100\n"
          ]
        }
      ]
    },
    {
      "cell_type": "code",
      "source": [
        "import math\n",
        "# math 모듈을 임포트 -> math.sqrt()"
      ],
      "metadata": {
        "id": "fGSKs-pDGvpZ"
      },
      "execution_count": 77,
      "outputs": []
    },
    {
      "cell_type": "markdown",
      "source": [
        "* class: Point\n",
        "  * 2차원 평면의 점의 좌표(x, y)를 표현하는 클래스\n",
        "* 생성자 함수: x, y를 초기화. x, y의 기본값은 0.\n",
        "* 메서드:\n",
        "  * move: 점의 좌표를 원래 위치에서 dx, dy만큼 이동시키는 메서드\n",
        "  * distance: 현재 점의 위치에서 다른 점까지의 거리를 계산해서 리턴하는 메서드.\n",
        "    ```\n",
        "    sqrt((x1 - x2)**2 + (y1 - y2)**2)\n",
        "    ```\n",
        "\n",
        ">>> $ \\sqrt{(x_1 - x_2)^2 + (y_1 - y_2)^2} $"
      ],
      "metadata": {
        "id": "nHCzxeQkG3rl"
      }
    },
    {
      "cell_type": "code",
      "source": [
        "class Point:\n",
        "  def __init__(self, x=0, y=0):\n",
        "    self.x = x\n",
        "    self.y = y\n",
        "\n",
        "  def move(self, dx, dy):\n",
        "    self.x += dx\n",
        "    self.y += dy\n",
        "\n",
        "  def distance(self, pt):\n",
        "    return math.sqrt((self.x - pt.x) **2 + (self.y - pt.y) **2)"
      ],
      "metadata": {
        "id": "duupz6FwHvsv"
      },
      "execution_count": 78,
      "outputs": []
    },
    {
      "cell_type": "code",
      "source": [
        "pt1 = Point() # 생성자 함수의 default argument 사용\n",
        "pt1"
      ],
      "metadata": {
        "colab": {
          "base_uri": "https://localhost:8080/"
        },
        "id": "RF2vJvIIIs6c",
        "outputId": "f601e8bc-0475-4a77-fa6b-2b2d7cee4e52"
      },
      "execution_count": 79,
      "outputs": [
        {
          "output_type": "execute_result",
          "data": {
            "text/plain": [
              "<__main__.Point at 0x7f4c07333070>"
            ]
          },
          "metadata": {},
          "execution_count": 79
        }
      ]
    },
    {
      "cell_type": "code",
      "source": [
        "print(f\"x={pt1.x}, y={pt1.y}\")"
      ],
      "metadata": {
        "colab": {
          "base_uri": "https://localhost:8080/"
        },
        "id": "57Yu8v-9I2fU",
        "outputId": "19e41160-c90f-4864-940d-bcffd082cf00"
      },
      "execution_count": 80,
      "outputs": [
        {
          "output_type": "stream",
          "name": "stdout",
          "text": [
            "x=0, y=0\n"
          ]
        }
      ]
    },
    {
      "cell_type": "code",
      "source": [
        "pt1.move(1, 1)\n",
        "print(f'x={pt1.x}, y={pt1.y}')"
      ],
      "metadata": {
        "colab": {
          "base_uri": "https://localhost:8080/"
        },
        "id": "_m63uYNKI-X1",
        "outputId": "44c00cb8-9f63-449d-fc9f-9a98cfc3976d"
      },
      "execution_count": 81,
      "outputs": [
        {
          "output_type": "stream",
          "name": "stdout",
          "text": [
            "x=1, y=1\n"
          ]
        }
      ]
    },
    {
      "cell_type": "code",
      "source": [
        "pt2 = Point(1,2)\n",
        "print(f'x={pt2.x}, y={pt2.y}')"
      ],
      "metadata": {
        "colab": {
          "base_uri": "https://localhost:8080/"
        },
        "id": "Nkik9ZBPJUtd",
        "outputId": "09d8841e-1303-4e0a-bdf6-d597cb9597d7"
      },
      "execution_count": 82,
      "outputs": [
        {
          "output_type": "stream",
          "name": "stdout",
          "text": [
            "x=1, y=2\n"
          ]
        }
      ]
    },
    {
      "cell_type": "code",
      "source": [
        "pt1.distance(pt2)"
      ],
      "metadata": {
        "colab": {
          "base_uri": "https://localhost:8080/"
        },
        "id": "h636cqDNJOYa",
        "outputId": "ae3c06f6-35f5-4a6f-d2fe-edb925f4135c"
      },
      "execution_count": 83,
      "outputs": [
        {
          "output_type": "execute_result",
          "data": {
            "text/plain": [
              "1.0"
            ]
          },
          "metadata": {},
          "execution_count": 83
        }
      ]
    },
    {
      "cell_type": "markdown",
      "source": [
        "# magic method\n",
        "모든 클래스가 같은 이름으로 가지고 있는 메서드\n",
        "특별한 경우에 파이썬 인터프리터에 의해서 호출되는 메서드\n",
        "\n",
        "* __init__():\n",
        "  * 생성자를 호출하면 자동으로 호출되는 메서드.\n",
        "  * 인스턴스의 필드(프로퍼티)들을 선언하고 초기화하는 메서드\n",
        "* __str__():\n",
        "  * print() 함수의 아규먼트 객체일 때 자동으로 호출되는 메서드\n",
        "  * 문자열을 리턴하는 메서드.\n",
        "* __repr__(): representation\n",
        "  * tlr(expression)을 출력할 때 자동으로 호출되는 메서드\n",
        "  * print() 함수의 동작 방식:\n",
        "    * 객체를 출력하기 위해서, 그 객체의 __str__() 메서드를 호출함.\n",
        "    * __str__() 메서드가 없는 경우에슨, __repr__() 메서드를 호출함.\n",
        "    * __str__() 메서드와 __repr__() 메서드가 모두 없는 경우에는, 기본 문자열(...object at0x...)로 출력"
      ],
      "metadata": {
        "id": "zS6oYxQwJ-4I"
      }
    },
    {
      "cell_type": "code",
      "source": [
        "class T:\n",
        "  def __str__(self):\n",
        "    return 'class T instance'\n",
        "\n",
        "  def __repr__(self):\n",
        "    return 'T'"
      ],
      "metadata": {
        "id": "ON9zDZUWMWTP"
      },
      "execution_count": 84,
      "outputs": []
    },
    {
      "cell_type": "code",
      "source": [
        "t = T() # 생성자 호출 -> __init__() 메서드 호출"
      ],
      "metadata": {
        "id": "tj4hs58wMr_P"
      },
      "execution_count": 85,
      "outputs": []
    },
    {
      "cell_type": "code",
      "source": [
        "print(t)"
      ],
      "metadata": {
        "colab": {
          "base_uri": "https://localhost:8080/"
        },
        "id": "5vteCKSUMzrL",
        "outputId": "1a93878a-5a00-4b0e-b048-2868b4da4dd8"
      },
      "execution_count": 86,
      "outputs": [
        {
          "output_type": "stream",
          "name": "stdout",
          "text": [
            "class T instance\n"
          ]
        }
      ]
    },
    {
      "cell_type": "code",
      "source": [
        "t # __repr__() 메서드 자동 호출"
      ],
      "metadata": {
        "colab": {
          "base_uri": "https://localhost:8080/"
        },
        "id": "Tx0DUQrrM2RI",
        "outputId": "a83fddd0-3efe-4347-be05-51200e135003"
      },
      "execution_count": 87,
      "outputs": [
        {
          "output_type": "execute_result",
          "data": {
            "text/plain": [
              "T"
            ]
          },
          "metadata": {},
          "execution_count": 87
        }
      ]
    },
    {
      "cell_type": "markdown",
      "source": [
        "* __eq__(): equal\n",
        "  * == 연산자를 사용했을 때 자동으로 호출되는 메서드.\n",
        "  * 두 객체가 같은 지(True) 다른 지(False)를 리턴."
      ],
      "metadata": {
        "id": "PgpKKHxRNByP"
      }
    },
    {
      "cell_type": "code",
      "source": [
        "list1 = [1, 2, 3]\n",
        "list2 = [1, 2, 3]\n",
        "list1 == list2"
      ],
      "metadata": {
        "colab": {
          "base_uri": "https://localhost:8080/"
        },
        "id": "zA6LdGiqM-g8",
        "outputId": "afba3c20-e4b6-4909-bb08-944c5a7f854e"
      },
      "execution_count": 88,
      "outputs": [
        {
          "output_type": "execute_result",
          "data": {
            "text/plain": [
              "True"
            ]
          },
          "metadata": {},
          "execution_count": 88
        }
      ]
    },
    {
      "cell_type": "code",
      "source": [
        "class Number:\n",
        "  def __init__(self, n):\n",
        "    self.n = n\n",
        "\n",
        "  def __repr__(self):\n",
        "    return str(self.n)\n",
        "\n",
        "  def __eq__(self, other):\n",
        "    return self.n == other.n"
      ],
      "metadata": {
        "id": "XNFCvEvrN0Wm"
      },
      "execution_count": 89,
      "outputs": []
    },
    {
      "cell_type": "code",
      "source": [
        "n1 = Number(1)\n",
        "n1"
      ],
      "metadata": {
        "colab": {
          "base_uri": "https://localhost:8080/"
        },
        "id": "nbxsntd7t6OD",
        "outputId": "29ee7a60-c811-4fb3-855a-949d114c35bc"
      },
      "execution_count": 90,
      "outputs": [
        {
          "output_type": "execute_result",
          "data": {
            "text/plain": [
              "1"
            ]
          },
          "metadata": {},
          "execution_count": 90
        }
      ]
    },
    {
      "cell_type": "code",
      "source": [
        "n2 = Number(1)\n",
        "n2"
      ],
      "metadata": {
        "colab": {
          "base_uri": "https://localhost:8080/"
        },
        "id": "aic674DYt9nL",
        "outputId": "774412d5-f1d5-47e2-bf52-ba8f9a86d8f0"
      },
      "execution_count": 91,
      "outputs": [
        {
          "output_type": "execute_result",
          "data": {
            "text/plain": [
              "1"
            ]
          },
          "metadata": {},
          "execution_count": 91
        }
      ]
    },
    {
      "cell_type": "code",
      "source": [
        "n1 == n2  # n1.__eq__(n2)"
      ],
      "metadata": {
        "colab": {
          "base_uri": "https://localhost:8080/"
        },
        "id": "NYBvn0Qot_vr",
        "outputId": "31fb43a1-c463-499f-f5a9-d0f97ae72c84"
      },
      "execution_count": 92,
      "outputs": [
        {
          "output_type": "execute_result",
          "data": {
            "text/plain": [
              "True"
            ]
          },
          "metadata": {},
          "execution_count": 92
        }
      ]
    },
    {
      "cell_type": "markdown",
      "source": [
        "#Exercise\n",
        "  * class Score\n",
        "    * 프로퍼티: korean, math, science (int 타입)\n",
        "    * 메서드: __init__, __repr__, __eq__, get_total, get_mean\n",
        "  * class Student\n",
        "    * 프로퍼티: no(int), name(str), score(Score)\n",
        "    * 메서드: __init__, __repr__"
      ],
      "metadata": {
        "id": "ERSxlao0uBw2"
      }
    },
    {
      "cell_type": "code",
      "source": [
        "class Score:\n",
        "    def __init__(self, korean=0, math=0, science=0):\n",
        "        self.korean = korean\n",
        "        self.math = math\n",
        "        self.science = science\n",
        "\n",
        "    def __repr__(self):\n",
        "        return f'Score(korean={self.korean}, math={self.math}, science={self.science})'\n",
        "\n",
        "    def __eq__(self, other):\n",
        "        return self.korean == other.korean and \\\n",
        "                self.math == other.math and \\\n",
        "                self.science == other.science\n",
        "\n",
        "    def get_total(self):\n",
        "        return self.korean + self.math + self.science\n",
        "\n",
        "    def get_mean(self):\n",
        "        return self.get_total() / 3"
      ],
      "metadata": {
        "id": "n4o_djDluPLD"
      },
      "execution_count": 93,
      "outputs": []
    },
    {
      "cell_type": "code",
      "source": [
        "score1 = Score()\n",
        "score1"
      ],
      "metadata": {
        "colab": {
          "base_uri": "https://localhost:8080/"
        },
        "id": "QNfXggfbubO0",
        "outputId": "f2e76055-404e-4f7d-ffa1-192f719b3c21"
      },
      "execution_count": 94,
      "outputs": [
        {
          "output_type": "execute_result",
          "data": {
            "text/plain": [
              "Score(korean=0, math=0, science=0)"
            ]
          },
          "metadata": {},
          "execution_count": 94
        }
      ]
    },
    {
      "cell_type": "code",
      "source": [
        "score2 = Score(90, 80, 50)\n",
        "score2"
      ],
      "metadata": {
        "colab": {
          "base_uri": "https://localhost:8080/"
        },
        "id": "JknJ59N_uc_8",
        "outputId": "e4b55552-8265-4b58-e0bd-19d2451543e7"
      },
      "execution_count": 95,
      "outputs": [
        {
          "output_type": "execute_result",
          "data": {
            "text/plain": [
              "Score(korean=90, math=80, science=50)"
            ]
          },
          "metadata": {},
          "execution_count": 95
        }
      ]
    },
    {
      "cell_type": "code",
      "source": [
        "score3 = Score(math=100)\n",
        "score3"
      ],
      "metadata": {
        "colab": {
          "base_uri": "https://localhost:8080/"
        },
        "id": "TE46cevLui9z",
        "outputId": "c0b8946c-f5e8-4646-c656-8e0331bc25a0"
      },
      "execution_count": 96,
      "outputs": [
        {
          "output_type": "execute_result",
          "data": {
            "text/plain": [
              "Score(korean=0, math=100, science=0)"
            ]
          },
          "metadata": {},
          "execution_count": 96
        }
      ]
    },
    {
      "cell_type": "code",
      "source": [
        "score1 == score2"
      ],
      "metadata": {
        "colab": {
          "base_uri": "https://localhost:8080/"
        },
        "id": "DfCoesYTulHd",
        "outputId": "6f686e11-1f15-4ff0-8b67-4a9e6b38e58a"
      },
      "execution_count": 97,
      "outputs": [
        {
          "output_type": "execute_result",
          "data": {
            "text/plain": [
              "False"
            ]
          },
          "metadata": {},
          "execution_count": 97
        }
      ]
    },
    {
      "cell_type": "code",
      "source": [
        "score4 = Score(math=80, science=50, korean=90)\n",
        "score4"
      ],
      "metadata": {
        "colab": {
          "base_uri": "https://localhost:8080/"
        },
        "id": "2seCzMhSuu4M",
        "outputId": "29cc36b3-9d1e-415a-d11b-759ef1c196f0"
      },
      "execution_count": 98,
      "outputs": [
        {
          "output_type": "execute_result",
          "data": {
            "text/plain": [
              "Score(korean=90, math=80, science=50)"
            ]
          },
          "metadata": {},
          "execution_count": 98
        }
      ]
    },
    {
      "cell_type": "code",
      "source": [
        "score2 == score4"
      ],
      "metadata": {
        "colab": {
          "base_uri": "https://localhost:8080/"
        },
        "id": "4KAsXGwvuwMU",
        "outputId": "fe1739ad-2820-4470-95da-26cee6636a03"
      },
      "execution_count": 99,
      "outputs": [
        {
          "output_type": "execute_result",
          "data": {
            "text/plain": [
              "True"
            ]
          },
          "metadata": {},
          "execution_count": 99
        }
      ]
    },
    {
      "cell_type": "code",
      "source": [
        "score4.get_total()"
      ],
      "metadata": {
        "colab": {
          "base_uri": "https://localhost:8080/"
        },
        "id": "3wfcDdjzuxp0",
        "outputId": "0b26ff32-26ba-430b-fc90-8dcf5abbae71"
      },
      "execution_count": 100,
      "outputs": [
        {
          "output_type": "execute_result",
          "data": {
            "text/plain": [
              "220"
            ]
          },
          "metadata": {},
          "execution_count": 100
        }
      ]
    },
    {
      "cell_type": "code",
      "source": [
        "score4.get_mean()"
      ],
      "metadata": {
        "colab": {
          "base_uri": "https://localhost:8080/"
        },
        "id": "EHxvq8nPuyxR",
        "outputId": "cad2ef61-76d6-4f68-efe8-d693058ade95"
      },
      "execution_count": 101,
      "outputs": [
        {
          "output_type": "execute_result",
          "data": {
            "text/plain": [
              "73.33333333333333"
            ]
          },
          "metadata": {},
          "execution_count": 101
        }
      ]
    },
    {
      "cell_type": "code",
      "source": [
        "class Student:\n",
        "    def __init__(self, no, name, score):\n",
        "        self.no = no\n",
        "        self.name = name\n",
        "        self.score = score\n",
        "\n",
        "    def __repr__(self):\n",
        "        return f'Student(no={self.no}, name={self.name}, score={self.score})'"
      ],
      "metadata": {
        "id": "LSKuz2L6u0fc"
      },
      "execution_count": 102,
      "outputs": []
    },
    {
      "cell_type": "code",
      "source": [
        "student1 = Student(1, '다한', score1)\n",
        "student1"
      ],
      "metadata": {
        "colab": {
          "base_uri": "https://localhost:8080/"
        },
        "id": "obVQ1nAju2FE",
        "outputId": "dc55abb7-dce1-4cc7-ce67-73fb564c3de0"
      },
      "execution_count": 103,
      "outputs": [
        {
          "output_type": "execute_result",
          "data": {
            "text/plain": [
              "Student(no=1, name=다한, score=Score(korean=0, math=0, science=0))"
            ]
          },
          "metadata": {},
          "execution_count": 103
        }
      ]
    },
    {
      "cell_type": "code",
      "source": [
        "student2 = Student(2, '홍길동', Score())\n",
        "student2"
      ],
      "metadata": {
        "colab": {
          "base_uri": "https://localhost:8080/"
        },
        "id": "QVxNvrTOu3dE",
        "outputId": "aac3fd73-d232-456c-9c3e-f3fa3301e903"
      },
      "execution_count": 104,
      "outputs": [
        {
          "output_type": "execute_result",
          "data": {
            "text/plain": [
              "Student(no=2, name=홍길동, score=Score(korean=0, math=0, science=0))"
            ]
          },
          "metadata": {},
          "execution_count": 104
        }
      ]
    },
    {
      "cell_type": "code",
      "source": [
        "student1.score == student2.score\n",
        "# student1.score.__eq__(student2.score)"
      ],
      "metadata": {
        "colab": {
          "base_uri": "https://localhost:8080/"
        },
        "id": "mwe17P2Fu40I",
        "outputId": "d0ed2e51-a018-4c70-d322-be5c58fd897a"
      },
      "execution_count": 105,
      "outputs": [
        {
          "output_type": "execute_result",
          "data": {
            "text/plain": [
              "True"
            ]
          },
          "metadata": {},
          "execution_count": 105
        }
      ]
    },
    {
      "cell_type": "markdown",
      "source": [
        "#상속(Inheritance)\n",
        "* super class(상위 클래스), parent class(부모 클래스), base class(기본 클래스)\n",
        "* sub class(하위 클래스), child class(자식 클래스), derived class(유도 클래스)\n",
        "* 상속: 상위 클래스의 속성(데이터)들과 기능(메서드)들을 하위 클래스에서 재사용하는 것.\n",
        "* 일반적으로 IS-A 관계가 성립하는 객체들을 상속을 사용해서 구현함.\n",
        "  * 학생은 사람이다(Student IS A Person)."
      ],
      "metadata": {
        "id": "afZFt3IxvAk8"
      }
    },
    {
      "cell_type": "code",
      "source": [
        "class Person:\n",
        "    def __init__(self, name, age=0):\n",
        "        self.name = name\n",
        "        self.age = age\n",
        "\n",
        "    def hello(self):\n",
        "        print(f'안녕하세요, 저는 {self.name}입니다. 나이는 {self.age}입니다.')"
      ],
      "metadata": {
        "id": "oFqIxJTeu_7k"
      },
      "execution_count": 106,
      "outputs": []
    },
    {
      "cell_type": "code",
      "source": [
        "gildong = Person('홍길동')\n",
        "gildong.hello()"
      ],
      "metadata": {
        "colab": {
          "base_uri": "https://localhost:8080/"
        },
        "id": "nOy76oxRvmt8",
        "outputId": "5009cfbc-2e9a-4208-da47-8549eac43bc4"
      },
      "execution_count": 107,
      "outputs": [
        {
          "output_type": "stream",
          "name": "stdout",
          "text": [
            "안녕하세요, 저는 홍길동입니다. 나이는 0입니다.\n"
          ]
        }
      ]
    },
    {
      "cell_type": "code",
      "source": [
        "# Person을 상속하는 Student 클래스 정의\n",
        "class Student(Person):\n",
        "    # 생성자 method override\n",
        "    def __init__(self, name, age=0, school='Test'):\n",
        "        # 하위 클래스에서 상위 클래스의 메서드를 호출:\n",
        "        super().__init__(name, age)\n",
        "        self.school = school\n",
        "\n",
        "    # hello method override\n",
        "    def hello(self):\n",
        "        super().hello()\n",
        "        print(f'학교는 {self.school}입니다.')"
      ],
      "metadata": {
        "id": "ryxHQLkIvpPU"
      },
      "execution_count": 108,
      "outputs": []
    },
    {
      "cell_type": "code",
      "source": [
        "stu = Student(name='다한', age=16, school='아이티윌')"
      ],
      "metadata": {
        "id": "UDnE2I4gvr70"
      },
      "execution_count": 109,
      "outputs": []
    },
    {
      "cell_type": "code",
      "source": [
        "stu.hello()"
      ],
      "metadata": {
        "colab": {
          "base_uri": "https://localhost:8080/"
        },
        "id": "7GgetKgBvu1E",
        "outputId": "174deef5-72b2-4385-ea05-3c48dbad7c05"
      },
      "execution_count": 110,
      "outputs": [
        {
          "output_type": "stream",
          "name": "stdout",
          "text": [
            "안녕하세요, 저는 다한입니다. 나이는 16입니다.\n",
            "학교는 아이티윌입니다.\n"
          ]
        }
      ]
    },
    {
      "cell_type": "markdown",
      "source": [
        "**Method Override**\n",
        "\n",
        "* 상위 클래스의 메서드를 하위 클래스에서 재정의하는 것.\n",
        "    * 파이썬에서는 메서드의 이름만 같으면 (파라미터 타입/개수와 상관 없이) 메서드가 재정의됨.\n",
        "        * 파이썬은 같은 이름으로 2개 이상의 메서드(함수)를 가질 수 없음 - overloading은 제공하지 않음.\n",
        "    * 자바에서는 메서드 이름, 파라미터 타입/개수/순서가 모두 동일한 경우에 메서드가 재정의됨.\n",
        "        * 파라미터가 다르면 같은 이름의 메서드가 2개 이상 있을 수 있음 - overloading\n",
        "* 하위 클래스에서 재정의(overrid)된 상위 클래스의 메서드를 명시적으로 호출하기 위해서는 `super().method_name(...)`의 형식으로 호출함."
      ],
      "metadata": {
        "id": "W2E1r87_whW0"
      }
    },
    {
      "cell_type": "code",
      "source": [
        "def a():\n",
        "    print('a')"
      ],
      "metadata": {
        "id": "XQMbT8dnwro7"
      },
      "execution_count": 111,
      "outputs": []
    },
    {
      "cell_type": "code",
      "source": [
        "def a(msg):\n",
        "    print(msg)"
      ],
      "metadata": {
        "id": "VkthkUuVws2r"
      },
      "execution_count": 112,
      "outputs": []
    },
    {
      "cell_type": "code",
      "source": [
        "a('test')"
      ],
      "metadata": {
        "colab": {
          "base_uri": "https://localhost:8080/"
        },
        "id": "QOhtSLgAwt8s",
        "outputId": "0aaf3b58-9ada-414e-aa76-ecfc55a4d9b4"
      },
      "execution_count": 113,
      "outputs": [
        {
          "output_type": "stream",
          "name": "stdout",
          "text": [
            "test\n"
          ]
        }
      ]
    },
    {
      "cell_type": "markdown",
      "source": [
        "파이썬은 함수(메서드) 오버로딩을 제공하지 않음.\n",
        "\n",
        "파라미터가 다르다고 해서 같은 이름으로 함수(메서드)를 정의할 수 없음.\n",
        "\n",
        "같은 이름으로 함수를 정의하면, 가장 마지막에서 정의한 함수만 남음.\n",
        "\n",
        "파이썬은 함수(메서드) 오버로딩 대신에, default argument를 이용하면, 같은 이름의 함수를 여러가지 방법으로 호출할 수 있음."
      ],
      "metadata": {
        "id": "tZLz2AgowveT"
      }
    },
    {
      "cell_type": "code",
      "source": [
        "def a(msg='a'):\n",
        "    print(msg)"
      ],
      "metadata": {
        "id": "3kOSIpq0xDdr"
      },
      "execution_count": null,
      "outputs": []
    },
    {
      "cell_type": "code",
      "source": [
        "a()"
      ],
      "metadata": {
        "id": "mZiUdrlIxEnL"
      },
      "execution_count": null,
      "outputs": []
    },
    {
      "cell_type": "code",
      "source": [
        "a('TEST')"
      ],
      "metadata": {
        "id": "UHDUMBlgxF0D"
      },
      "execution_count": null,
      "outputs": []
    }
  ]
}